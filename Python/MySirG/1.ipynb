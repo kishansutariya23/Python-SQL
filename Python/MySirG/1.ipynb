{
 "cells": [
  {
   "cell_type": "markdown",
   "metadata": {},
   "source": [
    "# Assignment-1: Warm-up with python"
   ]
  },
  {
   "cell_type": "code",
   "execution_count": 4,
   "metadata": {},
   "outputs": [
    {
     "name": "stdout",
     "output_type": "stream",
     "text": [
      "Python 3.11.3\n"
     ]
    }
   ],
   "source": [
    "# 1. Write a command to get the Python version you are using.\n",
    "!python --version"
   ]
  },
  {
   "cell_type": "code",
   "execution_count": 5,
   "metadata": {},
   "outputs": [
    {
     "name": "stdout",
     "output_type": "stream",
     "text": [
      "Hello Python\n"
     ]
    }
   ],
   "source": [
    "#  2. Write a python script to print Hello Python on the screen directly in the command line \n",
    "print(\"Hello Python\")"
   ]
  },
  {
   "cell_type": "code",
   "execution_count": 6,
   "metadata": {},
   "outputs": [
    {
     "name": "stdout",
     "output_type": "stream",
     "text": [
      "You are executing o.py file\n"
     ]
    }
   ],
   "source": [
    "# 3. Write a python script and store it in a file and execute the file from the command line.\n",
    "!python o.py "
   ]
  },
  {
   "cell_type": "code",
   "execution_count": 7,
   "metadata": {},
   "outputs": [
    {
     "name": "stdout",
     "output_type": "stream",
     "text": [
      "Hello Python\n"
     ]
    }
   ],
   "source": [
    "# 4. Write a python script to print Hello Python on the screen using visual studio code.\n",
    "print(\"Hello Python\")"
   ]
  },
  {
   "cell_type": "code",
   "execution_count": 8,
   "metadata": {},
   "outputs": [
    {
     "name": "stdout",
     "output_type": "stream",
     "text": [
      "Hello \n",
      "Python\n"
     ]
    }
   ],
   "source": [
    "# 5. Write a python script to print Hello on the first line and Python on the second line\n",
    "print(\"Hello \\nPython\")"
   ]
  },
  {
   "cell_type": "code",
   "execution_count": 9,
   "metadata": {},
   "outputs": [
    {
     "name": "stdout",
     "output_type": "stream",
     "text": [
      "MySirG\n"
     ]
    }
   ],
   "source": [
    "# 6. Write a python script to print “MySirG” on the screen\n",
    "print(\"MySirG\")"
   ]
  },
  {
   "cell_type": "code",
   "execution_count": 10,
   "metadata": {},
   "outputs": [
    {
     "name": "stdout",
     "output_type": "stream",
     "text": [
      "Teacher's Day\n"
     ]
    }
   ],
   "source": [
    "# 7. Write a python script to print “Teacher’s Day” on the screen\n",
    "print(\"Teacher's Day\")"
   ]
  },
  {
   "cell_type": "code",
   "execution_count": 11,
   "metadata": {},
   "outputs": [
    {
     "name": "stdout",
     "output_type": "stream",
     "text": [
      "KishanData\n"
     ]
    }
   ],
   "source": [
    "# 8. Write a python script to print the value of a variable. Variable contains your name as data.\n",
    "variable = \"KishanData\"\n",
    "print(variable)"
   ]
  },
  {
   "cell_type": "code",
   "execution_count": 13,
   "metadata": {},
   "outputs": [
    {
     "name": "stdout",
     "output_type": "stream",
     "text": [
      "Helo! My name is Kishan and i am 21 old. My Qualification is B.Tech and i have 1.9 years of experiance\n"
     ]
    }
   ],
   "source": [
    "# 9. Write a python script to create variables to store your name, age, qualification, years of experience and print it.\n",
    "name = \"Kishan\"\n",
    "age = 21\n",
    "qualification = \"B.Tech\"\n",
    "YOE = 1.9\n",
    "print(\"Helo! My name is {} and i am {} old. My Qualification is {} and i have {} years of experiance\".format(name,age,qualification,YOE))"
   ]
  },
  {
   "cell_type": "code",
   "execution_count": 15,
   "metadata": {},
   "outputs": [
    {
     "name": "stdout",
     "output_type": "stream",
     "text": [
      "23 \n",
      " 75 \n",
      " 84\n"
     ]
    }
   ],
   "source": [
    "# 10. Write a python script to print values of three variables, each in a new line. Variable contains integer values\n",
    "x,y,z = 23,75,84\n",
    "print(x,\"\\n\",y,\"\\n\",z)"
   ]
  },
  {
   "cell_type": "markdown",
   "metadata": {},
   "source": []
  }
 ],
 "metadata": {
  "kernelspec": {
   "display_name": "base",
   "language": "python",
   "name": "python3"
  },
  "language_info": {
   "codemirror_mode": {
    "name": "ipython",
    "version": 3
   },
   "file_extension": ".py",
   "mimetype": "text/x-python",
   "name": "python",
   "nbconvert_exporter": "python",
   "pygments_lexer": "ipython3",
   "version": "3.11.3"
  }
 },
 "nbformat": 4,
 "nbformat_minor": 2
}
