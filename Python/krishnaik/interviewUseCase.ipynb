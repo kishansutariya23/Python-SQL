{
 "cells": [
  {
   "cell_type": "code",
   "execution_count": 2,
   "metadata": {},
   "outputs": [
    {
     "name": "stdout",
     "output_type": "stream",
     "text": [
      "7\n"
     ]
    }
   ],
   "source": [
    "# 1. Question: Given a list of numbers, write a Python function to find the second highest number..\n",
    "l1=[1,2,7,4,5,6,3,8]\n",
    "l1=list(set(l1))\n",
    "l1.sort()\n",
    "print(l1[-2])"
   ]
  },
  {
   "cell_type": "code",
   "execution_count": 3,
   "metadata": {},
   "outputs": [
    {
     "name": "stdout",
     "output_type": "stream",
     "text": [
      "720\n"
     ]
    }
   ],
   "source": [
    "# 2. Question: Write a function to compute the factorial of a number using recursion.\n",
    "def fact(n):\n",
    "    if n<=1:\n",
    "        return 1\n",
    "    else:\n",
    "        return n*fact(n-1)\n",
    "print(fact(6))\n"
   ]
  },
  {
   "cell_type": "code",
   "execution_count": 5,
   "metadata": {},
   "outputs": [
    {
     "name": "stdout",
     "output_type": "stream",
     "text": [
      "['anina']\n"
     ]
    }
   ],
   "source": [
    "# 3. Question: You are given a list of strings. Write a function to filter out all strings that are palindromes.\n",
    "\n",
    "l3=[\"kishan\",\"anina\",\"ignore\"]\n",
    "def is_palindrome(l3):\n",
    "    r=[]\n",
    "    for i in l3:\n",
    "        if i.lower()==i[::-1].lower():\n",
    "            r.append(i)\n",
    "    return r \n",
    "print(is_palindrome(l3))"
   ]
  },
  {
   "cell_type": "code",
   "execution_count": 6,
   "metadata": {},
   "outputs": [
    {
     "name": "stdout",
     "output_type": "stream",
     "text": [
      "True\n"
     ]
    }
   ],
   "source": [
    "# 4. Question: Given a string, write a function to check if it is an anagram of another string.\n",
    "s1='listen'\n",
    "s2='silent'\n",
    "print(sorted(s1)==sorted(s2))\n"
   ]
  },
  {
   "cell_type": "code",
   "execution_count": 9,
   "metadata": {},
   "outputs": [
    {
     "name": "stdout",
     "output_type": "stream",
     "text": [
      "[1, 2, 3, 1, 2, 3, 3, 2, 1, 0, 1, 4, 5, 6, 7]\n"
     ]
    }
   ],
   "source": [
    "# 5. Question: Write a function to flatten a nested list.\n",
    "nl=[1,2,[3,[1,2,3,[3,2,1,[0,1]]],4,[5,6]],7]\n",
    "fl=[]\n",
    "def flatten(l):\n",
    "    for i in l:\n",
    "        if type(i)==int:\n",
    "            fl.append(i)\n",
    "        else:\n",
    "            flatten(i)\n",
    "flatten(nl)\n",
    "print(fl)\n"
   ]
  },
  {
   "cell_type": "code",
   "execution_count": 10,
   "metadata": {},
   "outputs": [
    {
     "name": "stdout",
     "output_type": "stream",
     "text": [
      "[2, 3]\n"
     ]
    }
   ],
   "source": [
    "# 6. Question: Given two lists, write a function that returns the elements that are common to both lists.\n",
    "\n",
    "l1=[1,2,3]\n",
    "l2=[3,2,5,6]\n",
    "def common_elements(l1,l2):\n",
    "    return list(set(l1).intersection(l2))\n",
    "print(common_elements(l1,l2))"
   ]
  },
  {
   "cell_type": "code",
   "execution_count": 12,
   "metadata": {},
   "outputs": [
    {
     "name": "stdout",
     "output_type": "stream",
     "text": [
      "6\n"
     ]
    }
   ],
   "source": [
    "# 7. Question: Write a function that returns the number of words in a string.\n",
    "\n",
    "def no_word(s):\n",
    "    return len(s.split())\n",
    "print(no_word(\"kishan is learning python by hands-on\"))"
   ]
  },
  {
   "cell_type": "code",
   "execution_count": 13,
   "metadata": {},
   "outputs": [
    {
     "name": "stdout",
     "output_type": "stream",
     "text": [
      "{'a': 1, 'b': 2, 'c': 5, 'd': 4, 'e': 2}\n"
     ]
    }
   ],
   "source": [
    "# 8. Question: Write a Python function to merge two dictionaries. If both dictionaries have the same key, prefer the second dictionary's value.\n",
    "\n",
    "d1={'a':1,\"b\":2,\"c\":3}\n",
    "d2={\"c\":5,\"d\":4,\"e\":2}\n",
    "def merger_dict(d1,d2):\n",
    "    m=d1.copy()\n",
    "    m.update(d2)\n",
    "    return m\n",
    "\n",
    "print(merger_dict(d1,d2))"
   ]
  },
  {
   "cell_type": "code",
   "execution_count": 14,
   "metadata": {},
   "outputs": [
    {
     "name": "stdout",
     "output_type": "stream",
     "text": [
      "n\n"
     ]
    }
   ],
   "source": [
    "# 9. Question: Write a function that finds the most repeated character in a string.\n",
    "def most_repeat(s):\n",
    "    c_c={}\n",
    "    for i in s:\n",
    "        if i not in c_c:\n",
    "            c_c[i]=1\n",
    "        else:\n",
    "            c_c[i]+=1\n",
    "    max_c=max(c_c,key=c_c.get)\n",
    "    return max_c\n",
    "print(most_repeat(\"kishan is learning python by hands-on\"))\n"
   ]
  },
  {
   "cell_type": "code",
   "execution_count": 15,
   "metadata": {},
   "outputs": [
    {
     "name": "stdout",
     "output_type": "stream",
     "text": [
      "abcdefghijklmnopqrstuvwxyz\n",
      "False\n",
      "False\n"
     ]
    }
   ],
   "source": [
    "# 10. Question: Write a function that checks if a string contains all letters of the alphabet at least once.\n",
    "import string \n",
    "print(string.ascii_lowercase)\n",
    "s=\"kishan is learning python by hands-on\"\n",
    "print(set(s)>=set(string.ascii_lowercase))\n",
    "print(set([1,2,3])==set([3,2,4]))\n"
   ]
  },
  {
   "cell_type": "code",
   "execution_count": null,
   "metadata": {},
   "outputs": [],
   "source": [
    "# 11. Question: Write a function that checks if a given string is a valid IPv4 address.\n",
    "\n"
   ]
  },
  {
   "cell_type": "code",
   "execution_count": null,
   "metadata": {},
   "outputs": [],
   "source": [
    "# 12. Question: Given a list of numbers, write a function to compute the mean, median, and mode.\n",
    "\n"
   ]
  },
  {
   "cell_type": "code",
   "execution_count": null,
   "metadata": {},
   "outputs": [],
   "source": [
    "# 13. Question: Write a function to compute the Fibonacci series up to n.\n",
    "\n"
   ]
  },
  {
   "cell_type": "code",
   "execution_count": null,
   "metadata": {},
   "outputs": [],
   "source": [
    "# 14. Question: Given a string, write a function that returns the first non-repeated character.\n",
    "\n"
   ]
  },
  {
   "cell_type": "code",
   "execution_count": null,
   "metadata": {},
   "outputs": [],
   "source": [
    "# 15. Question: Write a function to check if two strings are a rotation of each other (e.g., \"abcde\" and \"cdeab\" are rotations of each other).\n",
    "\n"
   ]
  },
  {
   "cell_type": "code",
   "execution_count": null,
   "metadata": {},
   "outputs": [],
   "source": [
    "# 16. Question: Write a function to determine if a string has all unique characters (i.e., no character is repeated).\n",
    "\n"
   ]
  },
  {
   "cell_type": "code",
   "execution_count": null,
   "metadata": {},
   "outputs": [],
   "source": [
    "# 17. Question: Write a function that returns the longest consecutive subsequence in a list of numbers.\n",
    "\n"
   ]
  },
  {
   "cell_type": "code",
   "execution_count": null,
   "metadata": {},
   "outputs": [],
   "source": [
    "# 18. Question: Write a function to compute the square root of a given non-negative integer n without using built-in square root functions or libraries. Return the floor value of the result.\n",
    "\n"
   ]
  },
  {
   "cell_type": "code",
   "execution_count": null,
   "metadata": {},
   "outputs": [],
   "source": [
    "# 19. Question: Given a list of integers, write a function to move all zeros to the end of the list while maintaining the order of the other elements.\n",
    "\n"
   ]
  },
  {
   "cell_type": "code",
   "execution_count": null,
   "metadata": {},
   "outputs": [],
   "source": [
    "# 20. Question: Write a function that returns the sum of two numbers represented as strings. Your function should not use built-in arithmetic operators or functions.\n",
    "\n"
   ]
  }
 ],
 "metadata": {
  "kernelspec": {
   "display_name": "base",
   "language": "python",
   "name": "python3"
  },
  "language_info": {
   "codemirror_mode": {
    "name": "ipython",
    "version": 3
   },
   "file_extension": ".py",
   "mimetype": "text/x-python",
   "name": "python",
   "nbconvert_exporter": "python",
   "pygments_lexer": "ipython3",
   "version": "3.11.3"
  }
 },
 "nbformat": 4,
 "nbformat_minor": 2
}
